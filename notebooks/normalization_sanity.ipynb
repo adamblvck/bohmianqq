{
 "cells": [
  {
   "cell_type": "code",
   "execution_count": 31,
   "metadata": {},
   "outputs": [],
   "source": [
    "import numpy as np\n",
    "\n",
    "x_min = -20\n",
    "x_max = 20\n",
    "y_min = -20\n",
    "y_max = 20\n",
    "Nx = 512\n",
    "Ny = 512\n",
    "\n",
    "sigma = 1\n",
    "\n",
    "x0 = 0\n",
    "y0 = 0\n",
    "p0x = 0\n",
    "p0y = 0\n",
    "hbar = 1\n",
    "\n",
    "x = np.linspace(x_min, x_max, Nx, endpoint=False)\n",
    "y = np.linspace(y_min, y_max, Ny, endpoint=False)\n",
    "dx = x[1] - x[0]\n",
    "dy = y[1] - y[0]\n",
    "X, Y = np.meshgrid(x, y, indexing='xy')  # shapes: (Nx, Ny)\n",
    "\n",
    "norm = 1.0 / np.power(2.0 * np.pi * sigma**2, 0.5)\n",
    "gauss_envelope = norm * np.exp(\n",
    "\t-((X - x0)**2 + (Y - y0)**2) / (4.0 * sigma**2)\n",
    ")\n",
    "plane_wave = np.exp(1j * (p0x * (X - x0) + p0y * (Y - y0)) / hbar)\n",
    "\n",
    "# Initialize a 50-50 superposition state\n",
    "# Factor of 1/√2 ensures each component has 50% probability\n",
    "psi_up = (1/np.sqrt(2)) * gauss_envelope * plane_wave\n",
    "psi_down = (1/np.sqrt(2)) * gauss_envelope * plane_wave\n",
    "\n",
    "((abs(psi_up))**2).sum() * dx * dy\n",
    "((abs(psi_down))**2).sum() * dx * dy"
   ]
  },
  {
   "cell_type": "code",
   "execution_count": 32,
   "metadata": {},
   "outputs": [
    {
     "data": {
      "text/plain": [
       "0.4999999999999999"
      ]
     },
     "execution_count": 32,
     "metadata": {},
     "output_type": "execute_result"
    }
   ],
   "source": [
    "((abs(psi_down))**2).sum() * dx * dy"
   ]
  },
  {
   "cell_type": "markdown",
   "metadata": {},
   "source": [
    "okay good!"
   ]
  },
  {
   "cell_type": "code",
   "execution_count": null,
   "metadata": {},
   "outputs": [],
   "source": []
  },
  {
   "cell_type": "code",
   "execution_count": null,
   "metadata": {},
   "outputs": [],
   "source": []
  },
  {
   "cell_type": "code",
   "execution_count": null,
   "metadata": {},
   "outputs": [],
   "source": []
  }
 ],
 "metadata": {
  "kernelspec": {
   "display_name": "Python 3",
   "language": "python",
   "name": "python3"
  },
  "language_info": {
   "codemirror_mode": {
    "name": "ipython",
    "version": 3
   },
   "file_extension": ".py",
   "mimetype": "text/x-python",
   "name": "python",
   "nbconvert_exporter": "python",
   "pygments_lexer": "ipython3",
   "version": "3.11.8"
  }
 },
 "nbformat": 4,
 "nbformat_minor": 2
}
