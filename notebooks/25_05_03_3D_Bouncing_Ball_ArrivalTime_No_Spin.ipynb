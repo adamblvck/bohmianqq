{
 "cells": [
  {
   "cell_type": "code",
   "execution_count": 1,
   "metadata": {},
   "outputs": [],
   "source": [
    "import numpy as np\n",
    "import h5py\n",
    "from scipy.fft import fftn, ifftn\n",
    "\n",
    "def simulate_3d_freefall(\n",
    "\tx_min=-20, x_max=20, Nx=128,\n",
    "\ty_min=-20, y_max=20, Ny=128,\n",
    "\tz_min=0,   z_max=40, Nz=128,\n",
    "\tn_steps=100, dt=0.01,\n",
    "\thbar=1.0, m=1.0, g=9.81,\n",
    "\t# Gaussian floor parameters:\n",
    "\tfloor_center_z=0.0,       # plane location\n",
    "\tfloor_width=0.5,          # thickness\n",
    "\tfloor_strength=50.0,      # barrier height\n",
    "\t# initial wavepacket\n",
    "\tx0=0., y0=0., z0=30.,\n",
    "\tsigma=1.0\n",
    "):\n",
    "\t\"\"\"\n",
    "\tSplit-operator in 3D: free-fall under gravity + Gaussian floor at z=0.\n",
    "\tReturns nothing, but writes |psi|^2 into an HDF5 file \"probs.h5\".\n",
    "\t\"\"\"\n",
    "\n",
    "\t# 1) grids\n",
    "\tx = np.linspace(x_min, x_max, Nx, endpoint=False)\n",
    "\ty = np.linspace(y_min, y_max, Ny, endpoint=False)\n",
    "\tz = np.linspace(z_min, z_max, Nz, endpoint=False)\n",
    "\tdx, dy, dz = x[1]-x[0], y[1]-y[0], z[1]-z[0]\n",
    "\tX, Y, Z = np.meshgrid(x, y, z, indexing='ij')  # shape (Nx,Ny,Nz)\n",
    "\n",
    "\t# 2) potentials\n",
    "\tV_grav  = m * g * Z\n",
    "\tV_floor = floor_strength * np.exp(-((Z - floor_center_z)**2)/(2*floor_width**2))\n",
    "\tV_total = V_grav + V_floor\n",
    "\n",
    "\t# 3) initial psi: real Gaussian, at rest\n",
    "\tnorm = (1/(2*np.pi*sigma**2))**(3/4)\n",
    "\tpsi = norm * np.exp(-((X-x0)**2 + (Y-y0)**2 + (Z-z0)**2)/(4*sigma**2))\n",
    "\tpsi = psi.astype(np.complex128)\n",
    "\n",
    "\t# 4) momentum grids & kinetic phase\n",
    "\tkx = 2*np.pi * np.fft.fftfreq(Nx, d=dx)\n",
    "\tky = 2*np.pi * np.fft.fftfreq(Ny, d=dy)\n",
    "\tkz = 2*np.pi * np.fft.fftfreq(Nz, d=dz)\n",
    "\tKX, KY, KZ = np.meshgrid(kx, ky, kz, indexing='ij')\n",
    "\tkin_phase = np.exp(-1j * dt * hbar * (KX**2 + KY**2 + KZ**2)/(2*m))\n",
    "\n",
    "\t# 5) potential half-step\n",
    "\tpot_phase = np.exp(-1j * V_total * dt/(2*hbar))\n",
    "\n",
    "\t# 6) prepare HDF5 with a context manager\n",
    "\twith h5py.File(\"probs_3d_test.h5\", \"w\") as f:\n",
    "\t\tdset = f.create_dataset(\n",
    "\t\t\t\"prob\",\n",
    "\t\t\tshape=(n_steps, Nx, Ny, Nz),\n",
    "\t\t\tdtype=np.float32,\n",
    "\t\t\tcompression=\"gzip\", compression_opts=4\n",
    "\t\t)\n",
    "\n",
    "\t\tfor i in range(n_steps):\n",
    "\t\t\t# half-step in V\n",
    "\t\t\tpsi *= pot_phase\n",
    "\t\t\t# full T\n",
    "\t\t\tpsi = ifftn(kin_phase * fftn(psi, workers=-1), workers=-1)\n",
    "\t\t\t# half-step in V\n",
    "\t\t\tpsi *= pot_phase\n",
    "\n",
    "\t\t\t# store probability density\n",
    "\t\t\tdset[i, ...] = (np.abs(psi)**2).astype(np.float32)\n",
    "\t# file is closed automatically here\n"
   ]
  },
  {
   "cell_type": "code",
   "execution_count": 4,
   "metadata": {},
   "outputs": [],
   "source": [
    "params = {\n",
    "\t'x_min':-20, 'x_max':20, 'Nx':512,\n",
    "\t'y_min':-20, 'y_max':20, 'Ny':512,\n",
    "\t'z_min':-20,   'z_max':20, 'Nz':512,\n",
    "\t'n_steps':600, 'dt':0.01,\n",
    "\t'hbar':1.0, 'm':1.0, 'g':9.81,\n",
    "\t\n",
    "\t# Gaussian floor parameters:\n",
    "\t'floor_center_z':0.0,       # plane location\n",
    "\t'floor_width':0.5,          # thickness\n",
    "\t'floor_strength':25.0,      # barrier height\n",
    "\n",
    "\t# initial wavepacket\n",
    "\t'x0':0., 'y0':0., 'z0':15.,\n",
    "\t'sigma':15.0\n",
    "}"
   ]
  },
  {
   "cell_type": "code",
   "execution_count": 5,
   "metadata": {},
   "outputs": [
    {
     "ename": "OSError",
     "evalue": "[Errno 28] Can't synchronously write data (file write failed: time = Sat May  3 09:31:38 2025\n, filename = 'probs_3d_test.h5', file descriptor = 73, errno = 28, error message = 'No space left on device', buf = 0x150120000, total write size = 534190, bytes this sub-write = 534190, offset = 33300225909)",
     "output_type": "error",
     "traceback": [
      "\u001b[0;31m---------------------------------------------------------------------------\u001b[0m",
      "\u001b[0;31mOSError\u001b[0m                                   Traceback (most recent call last)",
      "Cell \u001b[0;32mIn[5], line 1\u001b[0m\n\u001b[0;32m----> 1\u001b[0m \u001b[43msimulate_3d_freefall\u001b[49m\u001b[43m(\u001b[49m\u001b[38;5;241;43m*\u001b[39;49m\u001b[38;5;241;43m*\u001b[39;49m\u001b[43mparams\u001b[49m\u001b[43m)\u001b[49m\n",
      "Cell \u001b[0;32mIn[1], line 69\u001b[0m, in \u001b[0;36msimulate_3d_freefall\u001b[0;34m(x_min, x_max, Nx, y_min, y_max, Ny, z_min, z_max, Nz, n_steps, dt, hbar, m, g, floor_center_z, floor_width, floor_strength, x0, y0, z0, sigma)\u001b[0m\n\u001b[1;32m     66\u001b[0m psi \u001b[38;5;241m*\u001b[39m\u001b[38;5;241m=\u001b[39m pot_phase\n\u001b[1;32m     68\u001b[0m \u001b[38;5;66;03m# store probability density\u001b[39;00m\n\u001b[0;32m---> 69\u001b[0m \u001b[43mdset\u001b[49m\u001b[43m[\u001b[49m\u001b[43mi\u001b[49m\u001b[43m,\u001b[49m\u001b[43m \u001b[49m\u001b[38;5;241;43m.\u001b[39;49m\u001b[38;5;241;43m.\u001b[39;49m\u001b[38;5;241;43m.\u001b[39;49m\u001b[43m]\u001b[49m \u001b[38;5;241m=\u001b[39m (np\u001b[38;5;241m.\u001b[39mabs(psi)\u001b[38;5;241m*\u001b[39m\u001b[38;5;241m*\u001b[39m\u001b[38;5;241m2\u001b[39m)\u001b[38;5;241m.\u001b[39mastype(np\u001b[38;5;241m.\u001b[39mfloat32)\n",
      "File \u001b[0;32mh5py/_objects.pyx:54\u001b[0m, in \u001b[0;36mh5py._objects.with_phil.wrapper\u001b[0;34m()\u001b[0m\n",
      "File \u001b[0;32mh5py/_objects.pyx:55\u001b[0m, in \u001b[0;36mh5py._objects.with_phil.wrapper\u001b[0;34m()\u001b[0m\n",
      "File \u001b[0;32m~/.pyenv/versions/3.11.8/lib/python3.11/site-packages/h5py/_hl/dataset.py:1043\u001b[0m, in \u001b[0;36mDataset.__setitem__\u001b[0;34m(self, args, val)\u001b[0m\n\u001b[1;32m   1041\u001b[0m mspace \u001b[38;5;241m=\u001b[39m h5s\u001b[38;5;241m.\u001b[39mcreate_simple(selection\u001b[38;5;241m.\u001b[39mexpand_shape(mshape))\n\u001b[1;32m   1042\u001b[0m \u001b[38;5;28;01mfor\u001b[39;00m fspace \u001b[38;5;129;01min\u001b[39;00m selection\u001b[38;5;241m.\u001b[39mbroadcast(mshape):\n\u001b[0;32m-> 1043\u001b[0m     \u001b[38;5;28;43mself\u001b[39;49m\u001b[38;5;241;43m.\u001b[39;49m\u001b[43mid\u001b[49m\u001b[38;5;241;43m.\u001b[39;49m\u001b[43mwrite\u001b[49m\u001b[43m(\u001b[49m\u001b[43mmspace\u001b[49m\u001b[43m,\u001b[49m\u001b[43m \u001b[49m\u001b[43mfspace\u001b[49m\u001b[43m,\u001b[49m\u001b[43m \u001b[49m\u001b[43mval\u001b[49m\u001b[43m,\u001b[49m\u001b[43m \u001b[49m\u001b[43mmtype\u001b[49m\u001b[43m,\u001b[49m\u001b[43m \u001b[49m\u001b[43mdxpl\u001b[49m\u001b[38;5;241;43m=\u001b[39;49m\u001b[38;5;28;43mself\u001b[39;49m\u001b[38;5;241;43m.\u001b[39;49m\u001b[43m_dxpl\u001b[49m\u001b[43m)\u001b[49m\n",
      "File \u001b[0;32mh5py/_objects.pyx:54\u001b[0m, in \u001b[0;36mh5py._objects.with_phil.wrapper\u001b[0;34m()\u001b[0m\n",
      "File \u001b[0;32mh5py/_objects.pyx:55\u001b[0m, in \u001b[0;36mh5py._objects.with_phil.wrapper\u001b[0;34m()\u001b[0m\n",
      "File \u001b[0;32mh5py/h5d.pyx:281\u001b[0m, in \u001b[0;36mh5py.h5d.DatasetID.write\u001b[0;34m()\u001b[0m\n",
      "File \u001b[0;32mh5py/_proxy.pyx:115\u001b[0m, in \u001b[0;36mh5py._proxy.dset_rw\u001b[0;34m()\u001b[0m\n",
      "\u001b[0;31mOSError\u001b[0m: [Errno 28] Can't synchronously write data (file write failed: time = Sat May  3 09:31:38 2025\n, filename = 'probs_3d_test.h5', file descriptor = 73, errno = 28, error message = 'No space left on device', buf = 0x150120000, total write size = 534190, bytes this sub-write = 534190, offset = 33300225909)"
     ]
    }
   ],
   "source": [
    "simulate_3d_freefall(**params)"
   ]
  },
  {
   "cell_type": "code",
   "execution_count": null,
   "metadata": {},
   "outputs": [],
   "source": []
  }
 ],
 "metadata": {
  "kernelspec": {
   "display_name": "Python 3",
   "language": "python",
   "name": "python3"
  },
  "language_info": {
   "codemirror_mode": {
    "name": "ipython",
    "version": 3
   },
   "file_extension": ".py",
   "mimetype": "text/x-python",
   "name": "python",
   "nbconvert_exporter": "python",
   "pygments_lexer": "ipython3",
   "version": "3.11.8"
  }
 },
 "nbformat": 4,
 "nbformat_minor": 2
}
